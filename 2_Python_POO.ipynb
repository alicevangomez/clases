{
  "nbformat": 4,
  "nbformat_minor": 0,
  "metadata": {
    "colab": {
      "provenance": [],
      "authorship_tag": "ABX9TyNPRLZKbsLCcuqsEzOvNwgK",
      "include_colab_link": true
    },
    "kernelspec": {
      "name": "python3",
      "display_name": "Python 3"
    },
    "language_info": {
      "name": "python"
    }
  },
  "cells": [
    {
      "cell_type": "markdown",
      "metadata": {
        "id": "view-in-github",
        "colab_type": "text"
      },
      "source": [
        "<a href=\"https://colab.research.google.com/github/alicevangomez/clases/blob/main/2_Python_POO.ipynb\" target=\"_parent\"><img src=\"https://colab.research.google.com/assets/colab-badge.svg\" alt=\"Open In Colab\"/></a>"
      ]
    },
    {
      "cell_type": "markdown",
      "source": [
        "## **Funciones en Python**\n",
        "\n",
        "---\n",
        "\n"
      ],
      "metadata": {
        "id": "qOlLot26KmgB"
      }
    },
    {
      "cell_type": "code",
      "source": [
        "#Función sin parámetro ni retorno\n",
        "def hello(): #def: define una función\n",
        "  print(\"Hi Alice! how are you? \\n\")\n",
        "\n",
        "def bye():\n",
        "  print(\"Good morning Amelia! Mommy I love you so much :)\")\n",
        "\n",
        "##### test #####\n",
        "hello()\n",
        "bye()"
      ],
      "metadata": {
        "colab": {
          "base_uri": "https://localhost:8080/"
        },
        "id": "bkbM_yQ2Ftrl",
        "outputId": "1e6cb920-9364-446f-9e1c-0cedd565a0d1"
      },
      "execution_count": 64,
      "outputs": [
        {
          "output_type": "stream",
          "name": "stdout",
          "text": [
            "Hi Alice! how are you? \n",
            "\n",
            "Good morning Amelia! Mommy I love you so much :)\n"
          ]
        }
      ]
    },
    {
      "cell_type": "code",
      "source": [
        "#Función con parámetros\n",
        "def saludar_persona(nombre):\n",
        "  print(f\"Hello {nombre} how old are you?\") #f-string permite insertar variables o expresiones directamente dentro de una cadena de texto, usando llaves {} ej.  print(f\"texto\")\n",
        "\n",
        "##### test #####\n",
        "entrada = input(\"¿Cuál es tu nombre?: \")\n",
        "saludar_persona(entrada)"
      ],
      "metadata": {
        "colab": {
          "base_uri": "https://localhost:8080/"
        },
        "id": "8r2FzKbEGMLR",
        "outputId": "c0e04d4b-61bc-4aad-923e-41b8561e6a4f"
      },
      "execution_count": 66,
      "outputs": [
        {
          "output_type": "stream",
          "name": "stdout",
          "text": [
            "¿Cuál es tu nombre?: Alice Gómez\n",
            "Hello Alice Gómez how old are you?\n"
          ]
        }
      ]
    },
    {
      "cell_type": "code",
      "source": [
        "#Función que retorna un valor\n",
        "def calcular_tiempo_viaje(horas,dias):\n",
        "  resultado = horas * dias\n",
        "  return resultado\n",
        "\n",
        "##### test #####\n",
        "horas = int(input(\"Ingrese el número de horas a calcular: \"))\n",
        "dias = int(input(\"Ingrese el número de días a calcular: \"))\n",
        "r = calcular_tiempo_viaje(horas,dias)\n",
        "print(f\"Total de horas del viaje: {r} horas\")\n"
      ],
      "metadata": {
        "colab": {
          "base_uri": "https://localhost:8080/"
        },
        "id": "0zMkdWVAEsNh",
        "outputId": "eba6464f-656c-444a-fa80-bd24a90bdf5f"
      },
      "execution_count": 67,
      "outputs": [
        {
          "output_type": "stream",
          "name": "stdout",
          "text": [
            "Ingrese el número de horas a calcular: 24\n",
            "Ingrese el número de días a calcular: 29\n",
            "Total de horas del viaje: 696 horas\n"
          ]
        }
      ]
    },
    {
      "cell_type": "code",
      "source": [
        "#Función con parámetro por defecto\n",
        "def saludar_persona(nombre = \"stranger\"):\n",
        "  print(f\"Hi, {nombre}. Nice day!\")\n",
        "\n",
        "##### test #####\n",
        "saludar_persona()\n",
        "saludar_persona(\"Henry Oswaldo\")"
      ],
      "metadata": {
        "colab": {
          "base_uri": "https://localhost:8080/"
        },
        "id": "KmbaB_bQKgdL",
        "outputId": "39c0fbbc-3d27-4712-e3a2-9586839e32b7"
      },
      "execution_count": 70,
      "outputs": [
        {
          "output_type": "stream",
          "name": "stdout",
          "text": [
            "Hi, stranger. Nice day!\n",
            "Hi, Henry Oswaldo. Nice day!\n"
          ]
        }
      ]
    },
    {
      "cell_type": "code",
      "source": [
        "#Función que devuelve varios valores\n",
        "def operaciones(a, b):\n",
        "  suma = a + b\n",
        "  resta = a - b\n",
        "  return suma, resta\n",
        "\n",
        "##### test #####\n",
        "s, r = operaciones(10, 8)\n",
        "print(f\"Suma: {s}\")\n",
        "print(f\"Resta: {r}\")"
      ],
      "metadata": {
        "colab": {
          "base_uri": "https://localhost:8080/"
        },
        "id": "OuzmYnajMRGC",
        "outputId": "214a3ea6-4013-4250-c465-ed42523d7fab"
      },
      "execution_count": 71,
      "outputs": [
        {
          "output_type": "stream",
          "name": "stdout",
          "text": [
            "Suma: 18\n",
            "Resta: 2\n"
          ]
        }
      ]
    },
    {
      "cell_type": "code",
      "source": [
        "#Función con lista como parámetro\n",
        "def promedio(lista):\n",
        "  return sum(lista) / len(lista)\n",
        "\n",
        "\n",
        "##### test #####\n",
        "notas = [10, 9.5, 8.5] #el tipo de dato LISTA se usa con CORCHETES\n",
        "print(\"El promedio es:\", int(promedio(notas)))\n"
      ],
      "metadata": {
        "colab": {
          "base_uri": "https://localhost:8080/"
        },
        "id": "NqlgNVGRM5YS",
        "outputId": "f27a0a12-69eb-44f2-95fd-13c6f7519316"
      },
      "execution_count": 35,
      "outputs": [
        {
          "output_type": "stream",
          "name": "stdout",
          "text": [
            "El promedio es: 9\n"
          ]
        }
      ]
    },
    {
      "cell_type": "markdown",
      "source": [
        "## **Curso 2: Programación orientada a objetos con Python**\n",
        "\n",
        "---\n",
        "\n",
        "*   Class\n",
        "*   Objects\n",
        "*   Data attributes\n",
        "*   Methods"
      ],
      "metadata": {
        "id": "M5Ao9T1i8vT7"
      }
    },
    {
      "cell_type": "code",
      "source": [
        "# Cálculo de área de un rectángulo con programación estructurada\n",
        "def calcular_area(base, altura):\n",
        "  return base*altura\n",
        "\n",
        "base = 5\n",
        "altura = 10\n",
        "area = calcular_area(base,altura)\n",
        "print('Area:', area)"
      ],
      "metadata": {
        "id": "Rk21JGuq8zWS",
        "outputId": "80b4114e-31ef-4da5-d6e5-73c59fa5d31e",
        "colab": {
          "base_uri": "https://localhost:8080/"
        }
      },
      "execution_count": 61,
      "outputs": [
        {
          "output_type": "stream",
          "name": "stdout",
          "text": [
            "Area: 50\n"
          ]
        }
      ]
    },
    {
      "cell_type": "code",
      "source": [
        "# Cálculo de área de un rectángulo con programación orientada a objetos\n",
        "class Rectangulo:\n",
        "    def __init__(self, base, altura):\n",
        "        self.base = base\n",
        "        self.altura = altura\n",
        "\n",
        "    def calcular_area(self):\n",
        "        return self.base * self.altura\n",
        "\n",
        "rect = Rectangulo(5, 10)\n",
        "print(\"Área:\", rect.calcular_area())"
      ],
      "metadata": {
        "id": "WNM2j9zs821S",
        "outputId": "e3fd19c6-916f-496b-ed8f-a9bdbf8591cc",
        "colab": {
          "base_uri": "https://localhost:8080/"
        }
      },
      "execution_count": 62,
      "outputs": [
        {
          "output_type": "stream",
          "name": "stdout",
          "text": [
            "Área: 50\n"
          ]
        }
      ]
    },
    {
      "cell_type": "markdown",
      "source": [
        "## **Ejercicios de Clases y Objetos en POO**\n",
        "\n",
        "---\n",
        "\n"
      ],
      "metadata": {
        "id": "BIa12Qw8ORr4"
      }
    },
    {
      "cell_type": "code",
      "source": [
        "class saludos: #usamos la palabra clave CLASS en Python para crear una clase que es un molde o plantilla para construir objetos\n",
        "    def __init__(self, nombre, edad, carrera): #__init__ es el metodo constructor en python que inicializa (o configura) las propiedades del objeto cuando se crea, usando los valores que le pasas.\n",
        "      self.nombre = nombre\n",
        "      self.edad = edad\n",
        "      self.carrera = carrera\n",
        "\n",
        "    def presentarse(self):\n",
        "      print(f\"Hi, my name is {self.nombre}! I am {self.edad} years old. I work as {self.carrera}, and you?\")\n",
        "\n",
        "\n",
        "#####\n",
        "alumno1 = saludos(\"Alice Gómez\", 36, \"Data Scientist/Professor\")\n",
        "alumno1.presentarse()"
      ],
      "metadata": {
        "colab": {
          "base_uri": "https://localhost:8080/"
        },
        "id": "Rz_Ka7diOXwZ",
        "outputId": "ac251e73-0fce-40c7-dd6b-e9ed997cc9b3"
      },
      "execution_count": 72,
      "outputs": [
        {
          "output_type": "stream",
          "name": "stdout",
          "text": [
            "Hi, my name is Alice Gómez! I am 36 years old. I work as Data Scientist/Professor, and you?\n"
          ]
        }
      ]
    },
    {
      "cell_type": "code",
      "source": [
        "class Producto:\n",
        "  def __init__(self, producto, cantidad):\n",
        "    self.producto=producto\n",
        "    self.cantidad=cantidad\n",
        "\n",
        "  def mostrar_informacion(self):\n",
        "    print(\"--Información a detalle--\")\n",
        "    print(\"Producto:\", self.producto)\n",
        "    print(\"Stock disponible:\", self.cantidad)\n",
        "\n",
        "######\n",
        "producto1 = Producto(\"Kit Sensorial\", 80)\n",
        "producto1.mostrar_informacion()"
      ],
      "metadata": {
        "colab": {
          "base_uri": "https://localhost:8080/"
        },
        "id": "ojM6h8TtQUpy",
        "outputId": "86bdbb8a-6cff-4d23-975d-062fbcb462ae"
      },
      "execution_count": 77,
      "outputs": [
        {
          "output_type": "stream",
          "name": "stdout",
          "text": [
            "--Información a detalle--\n",
            "Producto: Kit Sensorial\n",
            "Stock disponible: 80\n"
          ]
        }
      ]
    },
    {
      "cell_type": "code",
      "source": [
        "class Producto:\n",
        "  def __init__(self, nombre, precio_unitario, cantidad):\n",
        "    self.nombre= nombre\n",
        "    self.precio_unitario= precio_unitario\n",
        "    self.cantidad= cantidad\n",
        "\n",
        "  def calcular_valor_venta(self):\n",
        "    return self.precio_unitario * self.cantidad\n",
        "\n",
        "  def detalle_pedido(self):\n",
        "    print(\"-----Información del pedido-----\")\n",
        "    print(\"Producto:\", self.nombre)\n",
        "    print(\"Precio Unitario: $\", self.precio_unitario)\n",
        "\n",
        "#####\n",
        "producto1 = Producto(\"Flash Cards Fruits\", 5.95, 4)\n",
        "valor = producto1.calcular_valor_venta()\n",
        "producto1.detalle_pedido()\n",
        "print(f\" \\nEl total de su pedido es: ${valor}\")\n"
      ],
      "metadata": {
        "colab": {
          "base_uri": "https://localhost:8080/"
        },
        "id": "mOxU7jAcqNsf",
        "outputId": "6a2e87aa-7624-432e-e9c1-fc4125360dfa"
      },
      "execution_count": 78,
      "outputs": [
        {
          "output_type": "stream",
          "name": "stdout",
          "text": [
            "-----Información del pedido-----\n",
            "Producto: Flash Cards Fruits\n",
            "Precio Unitario: $ 5.95\n",
            " \n",
            "El total de su pedido es: $23.8\n"
          ]
        }
      ]
    }
  ]
}