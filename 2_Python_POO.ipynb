{
  "nbformat": 4,
  "nbformat_minor": 0,
  "metadata": {
    "colab": {
      "provenance": [],
      "authorship_tag": "ABX9TyMdvI/sG4nWv5o04vRyVv9X",
      "include_colab_link": true
    },
    "kernelspec": {
      "name": "python3",
      "display_name": "Python 3"
    },
    "language_info": {
      "name": "python"
    }
  },
  "cells": [
    {
      "cell_type": "markdown",
      "metadata": {
        "id": "view-in-github",
        "colab_type": "text"
      },
      "source": [
        "<a href=\"https://colab.research.google.com/github/alicevangomez/clases/blob/main/2_Python_POO.ipynb\" target=\"_parent\"><img src=\"https://colab.research.google.com/assets/colab-badge.svg\" alt=\"Open In Colab\"/></a>"
      ]
    },
    {
      "cell_type": "markdown",
      "source": [
        "## **Funciones en Python**\n",
        "\n",
        "---\n",
        "\n"
      ],
      "metadata": {
        "id": "qOlLot26KmgB"
      }
    },
    {
      "cell_type": "code",
      "source": [
        "#Funcion sin parametro ni retorno\n",
        "def hello(): #def: define una función\n",
        "  print(\"Hi Alice! how are you? \\n\")\n",
        "\n",
        "def bye():\n",
        "  print(\"Good bye Amelia! Mommy I love you so much :)\")\n",
        "\n",
        "#########\n",
        "hello()\n",
        "bye()"
      ],
      "metadata": {
        "colab": {
          "base_uri": "https://localhost:8080/"
        },
        "id": "bkbM_yQ2Ftrl",
        "outputId": "57de34df-4c8b-4b8d-eec1-3bb61134db40"
      },
      "execution_count": 13,
      "outputs": [
        {
          "output_type": "stream",
          "name": "stdout",
          "text": [
            "Hi Alice! how are you? \n",
            "\n",
            "Good bye Amelia! Mommy I love you so much :)\n"
          ]
        }
      ]
    },
    {
      "cell_type": "code",
      "source": [
        "#Funcion con parametros\n",
        "def saludar_persona(nombre):\n",
        "  print(f\"Hello {nombre} how old are you?\") #f-string permite insertar variables o expresiones directamente dentro de una cadena de texto, usando llaves {} ej.  print(f\"texto\")\n",
        "\n",
        "#########\n",
        "entrada = input(\"Por favor indicanos tu nombre: \")\n",
        "saludar_persona(entrada)"
      ],
      "metadata": {
        "colab": {
          "base_uri": "https://localhost:8080/"
        },
        "id": "8r2FzKbEGMLR",
        "outputId": "f9b3e904-f3b1-4799-b5c1-28129d22a999"
      },
      "execution_count": 36,
      "outputs": [
        {
          "output_type": "stream",
          "name": "stdout",
          "text": [
            "Por favor indicanos tu nombre: Amelia Idamia\n",
            "Hello Amelia Idamia how old are you?\n"
          ]
        }
      ]
    },
    {
      "cell_type": "code",
      "source": [
        "#Función que retorna un valor\n",
        "def calcular_tiempo_viaje(horas,dias):\n",
        "  resultado = horas * dias\n",
        "  return resultado\n",
        "\n",
        "#########\n",
        "horas = int(input(\"Ingrese el número de horas a calcular: \"))\n",
        "dias = int(input(\"Ingrese el número de días a calcular: \"))\n",
        "r = calcular_tiempo_viaje(horas,dias)\n",
        "print(f\"El número de horas invertidas en el viaje son de {r} horas\")\n"
      ],
      "metadata": {
        "colab": {
          "base_uri": "https://localhost:8080/"
        },
        "id": "0zMkdWVAEsNh",
        "outputId": "95493285-8ef2-4596-def0-2dd359fabf6d"
      },
      "execution_count": 26,
      "outputs": [
        {
          "output_type": "stream",
          "name": "stdout",
          "text": [
            "Ingrese el número de horas a calcular: 24\n",
            "Ingrese el número de días a calcular: 29\n",
            "El número de horas invertidas en el viaje son de 696 horas\n"
          ]
        }
      ]
    },
    {
      "cell_type": "code",
      "source": [
        "#Función con parametro por defecto\n",
        "def saludar_persona(nombre = \"guess\"):\n",
        "  print(f\"Hi, {nombre} Nice day!\")\n",
        "\n",
        "#####\n",
        "saludar_persona()\n",
        "saludar_persona(\"Henry Oswaldo\")"
      ],
      "metadata": {
        "colab": {
          "base_uri": "https://localhost:8080/"
        },
        "id": "KmbaB_bQKgdL",
        "outputId": "027ae135-a638-4e5e-a0cb-3baf3d29ad54"
      },
      "execution_count": 29,
      "outputs": [
        {
          "output_type": "stream",
          "name": "stdout",
          "text": [
            "Hi, guess Nice day!\n",
            "Hi, Henry Oswaldo Nice day!\n"
          ]
        }
      ]
    },
    {
      "cell_type": "code",
      "source": [
        "#Funcion que devuelve varios valores\n",
        "def operaciones(a, b):\n",
        "  suma = a + b\n",
        "  resta = a - b\n",
        "  return suma, resta\n",
        "\n",
        "#####\n",
        "s, r = operaciones(10, 8)\n",
        "print(f\"Suma: {s}\")\n",
        "print(f\"Resta: {r}\")"
      ],
      "metadata": {
        "colab": {
          "base_uri": "https://localhost:8080/"
        },
        "id": "OuzmYnajMRGC",
        "outputId": "4d2b4fed-cc2d-441e-fd69-a52090219ed7"
      },
      "execution_count": 31,
      "outputs": [
        {
          "output_type": "stream",
          "name": "stdout",
          "text": [
            "Suma: 18\n",
            "Resta: 2\n"
          ]
        }
      ]
    },
    {
      "cell_type": "code",
      "source": [
        "#Función con lista como parametro\n",
        "def promedio(lista):\n",
        "  return sum(lista) / len(lista)\n",
        "\n",
        "\n",
        "#####\n",
        "notas = [10, 9.5, 8.5] #el tipo de dato LISTA se usa con CORCHETES\n",
        "print(\"El promedio es:\", int(promedio(notas)))\n"
      ],
      "metadata": {
        "colab": {
          "base_uri": "https://localhost:8080/"
        },
        "id": "NqlgNVGRM5YS",
        "outputId": "f27a0a12-69eb-44f2-95fd-13c6f7519316"
      },
      "execution_count": 35,
      "outputs": [
        {
          "output_type": "stream",
          "name": "stdout",
          "text": [
            "El promedio es: 9\n"
          ]
        }
      ]
    },
    {
      "cell_type": "markdown",
      "source": [
        "## **Curso 2: Programación orientada a objetos con Python**\n",
        "\n",
        "---\n",
        "\n",
        "*   Class\n",
        "*   Objects\n",
        "*   Data attributes\n",
        "*   Methods"
      ],
      "metadata": {
        "id": "M5Ao9T1i8vT7"
      }
    },
    {
      "cell_type": "code",
      "source": [
        "# Cálculo de área de un rectangulo con programación estructurada\n",
        "def calcular_area(base, altura):\n",
        "  return base*altura\n",
        "\n",
        "base = 5\n",
        "altura = 10\n",
        "area = calcular_area(base,altura)\n",
        "print('Area:', area)"
      ],
      "metadata": {
        "id": "Rk21JGuq8zWS",
        "outputId": "80b4114e-31ef-4da5-d6e5-73c59fa5d31e",
        "colab": {
          "base_uri": "https://localhost:8080/"
        }
      },
      "execution_count": 61,
      "outputs": [
        {
          "output_type": "stream",
          "name": "stdout",
          "text": [
            "Area: 50\n"
          ]
        }
      ]
    },
    {
      "cell_type": "code",
      "source": [
        "# Cálculo de área de un rectángulo con programación orientada a objetos\n",
        "class Rectangulo:\n",
        "    def __init__(self, base, altura):\n",
        "        self.base = base\n",
        "        self.altura = altura\n",
        "\n",
        "    def calcular_area(self):\n",
        "        return self.base * self.altura\n",
        "\n",
        "rect = Rectangulo(5, 10)\n",
        "print(\"Área:\", rect.calcular_area())"
      ],
      "metadata": {
        "id": "WNM2j9zs821S",
        "outputId": "e3fd19c6-916f-496b-ed8f-a9bdbf8591cc",
        "colab": {
          "base_uri": "https://localhost:8080/"
        }
      },
      "execution_count": 62,
      "outputs": [
        {
          "output_type": "stream",
          "name": "stdout",
          "text": [
            "Área: 50\n"
          ]
        }
      ]
    },
    {
      "cell_type": "markdown",
      "source": [
        "## **POO**\n",
        "\n",
        "---\n",
        "\n"
      ],
      "metadata": {
        "id": "BIa12Qw8ORr4"
      }
    },
    {
      "cell_type": "code",
      "source": [
        "class saludos: #usamos la palabra clave CLASS en Python para crear una clase que es un molde o plantilla para construir objetos\n",
        "    def __init__(self, nombre, edad, carrera): #__init__ es el metodo constructor en python que inicializa (o configura) las propiedades del objeto cuando se crea, usando los valores que le pasas.\n",
        "      self.nombre = nombre\n",
        "      self.edad = edad\n",
        "      self.carrera = carrera\n",
        "\n",
        "    def presentarse(self):\n",
        "      print(f\"Hi, my name is {self.nombre}! I am {self.edad} years old. I work as {self.carrera}, and you?\")\n",
        "\n",
        "\n",
        "#####\n",
        "alumno1 = saludos(\"Henry Oswaldo\", 36, \"Research in AI\")\n",
        "alumno1.presentarse()"
      ],
      "metadata": {
        "colab": {
          "base_uri": "https://localhost:8080/"
        },
        "id": "Rz_Ka7diOXwZ",
        "outputId": "8a96081f-66eb-40c8-bf0b-c103d4a9d55d"
      },
      "execution_count": 47,
      "outputs": [
        {
          "output_type": "stream",
          "name": "stdout",
          "text": [
            "Hi, my name is Henry Oswaldo! I am 36 years old. I work as Research in AI, and you?\n"
          ]
        }
      ]
    },
    {
      "cell_type": "code",
      "source": [
        "class juguetes:\n",
        "  def __init__(self, producto, cantidad):\n",
        "    self.producto=producto\n",
        "    self.cantidad=cantidad\n",
        "\n",
        "  def mostrar_informacion(self):\n",
        "    print(\"--Información del producto a detalle--\")\n",
        "    print(\"Producto:\", self.producto)\n",
        "    print(\"Stock disponible:\", self.cantidad)\n",
        "\n",
        "######\n",
        "producto1 = juguetes(\"Kit Sensorial\", 80)\n",
        "producto1.mostrar_informacion()"
      ],
      "metadata": {
        "colab": {
          "base_uri": "https://localhost:8080/"
        },
        "id": "ojM6h8TtQUpy",
        "outputId": "e1a3f72f-9472-42d8-ca2d-a5bd173245f9"
      },
      "execution_count": 52,
      "outputs": [
        {
          "output_type": "stream",
          "name": "stdout",
          "text": [
            "--Información del producto a detalle--\n",
            "Producto: Kit Sensorial\n",
            "Stock disponible: 80\n"
          ]
        }
      ]
    },
    {
      "cell_type": "code",
      "source": [
        "class Producto:\n",
        "  def __init__(self, nombre, precio_unitario, cantidad):\n",
        "    self.nombre= nombre\n",
        "    self.precio_unitario= precio_unitario\n",
        "    self.cantidad= cantidad\n",
        "\n",
        "  def calcular_valor_venta(self):\n",
        "    return self.precio_unitario * self.cantidad\n",
        "\n",
        "  def detalle_pedido(self):\n",
        "    print(\"-----Información de pedido-----\")\n",
        "    print(\"Producto:\", self.nombre)\n",
        "    print(\"Precio Unitario: $\", self.precio_unitario)\n",
        "\n",
        "#####\n",
        "producto1 = Producto(\"Flash Cards Fruits\", 5.95, 4)\n",
        "valor = producto1.calcular_valor_venta()\n",
        "producto1.detalle_pedido()\n",
        "print(f\" \\nEl total de su pedido es: ${valor}\")\n"
      ],
      "metadata": {
        "colab": {
          "base_uri": "https://localhost:8080/"
        },
        "id": "mOxU7jAcqNsf",
        "outputId": "02ade46e-0c53-4fb4-ed3e-a4d59a06b1e0"
      },
      "execution_count": 60,
      "outputs": [
        {
          "output_type": "stream",
          "name": "stdout",
          "text": [
            "-----Información de pedido-----\n",
            "Producto: Flash Cards Fruits\n",
            "Precio Unitario: $ 5.95\n",
            " \n",
            "El total de su pedido es: $23.8\n"
          ]
        }
      ]
    }
  ]
}