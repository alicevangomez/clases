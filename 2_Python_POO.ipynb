{
  "nbformat": 4,
  "nbformat_minor": 0,
  "metadata": {
    "colab": {
      "provenance": [],
      "authorship_tag": "ABX9TyM7CZLzsClIv/aURO32pd1x",
      "include_colab_link": true
    },
    "kernelspec": {
      "name": "python3",
      "display_name": "Python 3"
    },
    "language_info": {
      "name": "python"
    }
  },
  "cells": [
    {
      "cell_type": "markdown",
      "metadata": {
        "id": "view-in-github",
        "colab_type": "text"
      },
      "source": [
        "<a href=\"https://colab.research.google.com/github/alicevangomez/clases/blob/main/2_Python_POO.ipynb\" target=\"_parent\"><img src=\"https://colab.research.google.com/assets/colab-badge.svg\" alt=\"Open In Colab\"/></a>"
      ]
    },
    {
      "cell_type": "markdown",
      "source": [
        "## **Curso 2: Programación orientada a objetos con Python**\n",
        "\n",
        "---\n",
        "\n",
        "*   Clases\n",
        "*   Objetos\n",
        "*   Atributos\n",
        "*   Métodos"
      ],
      "metadata": {
        "id": "M5Ao9T1i8vT7"
      }
    },
    {
      "cell_type": "code",
      "source": [
        "# Cálculo de área de un rectangulo con programación estructurada\n",
        "def calcular_area(base, altura):\n",
        "  return base*altura\n",
        "\n",
        "base = 5\n",
        "altura = 10\n",
        "area = calcular_area(base,altura)\n",
        "print('Area:', area)"
      ],
      "metadata": {
        "id": "Rk21JGuq8zWS",
        "outputId": "2ca48811-9d29-4bef-c159-42aa26625db4",
        "colab": {
          "base_uri": "https://localhost:8080/"
        }
      },
      "execution_count": null,
      "outputs": [
        {
          "output_type": "stream",
          "name": "stdout",
          "text": [
            "Area: 50\n"
          ]
        }
      ]
    },
    {
      "cell_type": "code",
      "source": [
        "# Cálculo de área de un rectángulo con programación orientada a objetos\n",
        "class Rectangulo:\n",
        "    def __init__(self, base, altura):\n",
        "        self.base = base\n",
        "        self.altura = altura\n",
        "\n",
        "    def calcular_area(self):\n",
        "        return self.base * self.altura\n",
        "\n",
        "rect = Rectangulo(5, 10)\n",
        "print(\"Área:\", rect.calcular_area())"
      ],
      "metadata": {
        "id": "WNM2j9zs821S",
        "outputId": "a53d9955-05ce-4ab9-e612-2f2d55df8d88",
        "colab": {
          "base_uri": "https://localhost:8080/"
        }
      },
      "execution_count": null,
      "outputs": [
        {
          "output_type": "stream",
          "name": "stdout",
          "text": [
            "Área: 50\n"
          ]
        }
      ]
    }
  ]
}