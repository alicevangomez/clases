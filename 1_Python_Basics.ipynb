{
  "nbformat": 4,
  "nbformat_minor": 0,
  "metadata": {
    "colab": {
      "provenance": [],
      "authorship_tag": "ABX9TyPZLJsicqySLVJdHQh1Dv1H",
      "include_colab_link": true
    },
    "kernelspec": {
      "name": "python3",
      "display_name": "Python 3"
    },
    "language_info": {
      "name": "python"
    }
  },
  "cells": [
    {
      "cell_type": "markdown",
      "metadata": {
        "id": "view-in-github",
        "colab_type": "text"
      },
      "source": [
        "<a href=\"https://colab.research.google.com/github/alicevangomez/clases/blob/main/1_Python_Basics.ipynb\" target=\"_parent\"><img src=\"https://colab.research.google.com/assets/colab-badge.svg\" alt=\"Open In Colab\"/></a>"
      ]
    },
    {
      "cell_type": "markdown",
      "source": [
        "# **Bienvenidos/as**\n",
        "---"
      ],
      "metadata": {
        "id": "xU7dRjwbRSMX"
      }
    },
    {
      "cell_type": "markdown",
      "source": [
        "La función `print()` en Python se usa para **mostrar información en la pantalla.**"
      ],
      "metadata": {
        "id": "RDhP_eLl3N-W"
      }
    },
    {
      "cell_type": "code",
      "source": [
        "print('Bienvenidos/as a la asignatura Programación de objetos en Python')"
      ],
      "metadata": {
        "colab": {
          "base_uri": "https://localhost:8080/"
        },
        "id": "FeJgPXFS4Y7o",
        "outputId": "3b090bab-0688-4891-c5ec-0a1776b83807"
      },
      "execution_count": 2,
      "outputs": [
        {
          "output_type": "stream",
          "name": "stdout",
          "text": [
            "Bienvenidos/as a la asignatura Programación de objetos en Python\n"
          ]
        }
      ]
    },
    {
      "cell_type": "code",
      "source": [
        "#Este es un comentario\n",
        "print('Hello World!')"
      ],
      "metadata": {
        "colab": {
          "base_uri": "https://localhost:8080/"
        },
        "id": "tGMVq88P2Erf",
        "outputId": "3ee43bad-836e-41b2-feb0-b94fcb49d331"
      },
      "execution_count": 3,
      "outputs": [
        {
          "output_type": "stream",
          "name": "stdout",
          "text": [
            "Hello World!\n"
          ]
        }
      ]
    },
    {
      "cell_type": "markdown",
      "source": [
        "## **1. Python Basics**\n",
        "---\n",
        "\n",
        "### Table of Contents\n",
        "*   Types\n",
        "*   Expressions\n",
        "*   Variables\n",
        "*   String Operations\n",
        "\n",
        "\n",
        "\n"
      ],
      "metadata": {
        "id": "3-erRkeoQk6f"
      }
    },
    {
      "cell_type": "markdown",
      "source": [
        "## **2. Python Data Structures**\n",
        "---\n",
        "\n",
        "\n",
        "### Table of Contents\n",
        "*   Lists and Tuples\n",
        "*   Dictionaries\n",
        "*   Sets"
      ],
      "metadata": {
        "id": "EFW3wyZ53RV-"
      }
    },
    {
      "cell_type": "markdown",
      "source": [
        "## **3. Python Programming Fundamentals**\n",
        "---\n",
        "\n",
        "\n",
        "### Table of Contents\n",
        "*   Conditions and Branching\n",
        "*   Loops\n",
        "*   Functions\n",
        "*   Objects and Classes"
      ],
      "metadata": {
        "id": "PUoetviU33QX"
      }
    },
    {
      "cell_type": "markdown",
      "source": [
        "## **4. Working with Data in Python**\n",
        "---\n",
        "\n"
      ],
      "metadata": {
        "id": "-dRS9n554HX1"
      }
    }
  ]
}