{
  "nbformat": 4,
  "nbformat_minor": 0,
  "metadata": {
    "colab": {
      "provenance": [],
      "authorship_tag": "ABX9TyPfXk7Jv5CE5xbSo+QAz4a/",
      "include_colab_link": true
    },
    "kernelspec": {
      "name": "python3",
      "display_name": "Python 3"
    },
    "language_info": {
      "name": "python"
    }
  },
  "cells": [
    {
      "cell_type": "markdown",
      "metadata": {
        "id": "view-in-github",
        "colab_type": "text"
      },
      "source": [
        "<a href=\"https://colab.research.google.com/github/alicevangomez/clases/blob/main/1_Python_Basics.ipynb\" target=\"_parent\"><img src=\"https://colab.research.google.com/assets/colab-badge.svg\" alt=\"Open In Colab\"/></a>"
      ]
    },
    {
      "cell_type": "markdown",
      "source": [],
      "metadata": {
        "id": "hMBI8STARjjn"
      }
    },
    {
      "cell_type": "markdown",
      "source": [
        "# **Presentación del curso**\n",
        "\n",
        "---\n",
        "\n"
      ],
      "metadata": {
        "id": "xU7dRjwbRSMX"
      }
    },
    {
      "cell_type": "markdown",
      "source": [
        "La función `print()` en Python se usa para **mostrar información en la pantalla.**"
      ],
      "metadata": {
        "id": "RDhP_eLl3N-W"
      }
    },
    {
      "cell_type": "code",
      "source": [
        "print('Bienvenidos/as a la asignatura Programación de objetos en Python')\n",
        "\n",
        "#Este es un comentario\n",
        "print('Hello World!')"
      ],
      "metadata": {
        "colab": {
          "base_uri": "https://localhost:8080/"
        },
        "id": "tGMVq88P2Erf",
        "outputId": "486e6e03-dee9-4127-e327-f4cab78cd382"
      },
      "execution_count": null,
      "outputs": [
        {
          "output_type": "stream",
          "name": "stdout",
          "text": [
            "Bienvenidos/as a la asignatura Programación de objetos en Python\n",
            "Hello World!\n"
          ]
        }
      ]
    },
    {
      "cell_type": "markdown",
      "source": [
        "# **Módulo 1: Python Basics**\n",
        "\n",
        "---\n",
        "\n",
        "\n",
        "### Table of Contents\n",
        "*   Types\n",
        "*   Expressions\n",
        "*   Variables\n",
        "*   String Operations\n",
        "\n",
        "\n",
        "\n"
      ],
      "metadata": {
        "id": "3-erRkeoQk6f"
      }
    }
  ]
}