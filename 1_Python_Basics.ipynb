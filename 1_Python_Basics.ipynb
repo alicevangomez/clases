{
  "nbformat": 4,
  "nbformat_minor": 0,
  "metadata": {
    "colab": {
      "provenance": [],
      "authorship_tag": "ABX9TyM8WkdtTZWUys3DkV3XSiYd",
      "include_colab_link": true
    },
    "kernelspec": {
      "name": "python3",
      "display_name": "Python 3"
    },
    "language_info": {
      "name": "python"
    }
  },
  "cells": [
    {
      "cell_type": "markdown",
      "metadata": {
        "id": "view-in-github",
        "colab_type": "text"
      },
      "source": [
        "<a href=\"https://colab.research.google.com/github/alicevangomez/clases/blob/main/1_Python_Basics.ipynb\" target=\"_parent\"><img src=\"https://colab.research.google.com/assets/colab-badge.svg\" alt=\"Open In Colab\"/></a>"
      ]
    },
    {
      "cell_type": "markdown",
      "source": [
        "# **Bienvenidos/as**\n",
        "---"
      ],
      "metadata": {
        "id": "xU7dRjwbRSMX"
      }
    },
    {
      "cell_type": "markdown",
      "source": [
        "La función `print()` en Python se usa para **mostrar información en la pantalla.**"
      ],
      "metadata": {
        "id": "RDhP_eLl3N-W"
      }
    },
    {
      "cell_type": "code",
      "source": [
        "print('Bienvenidos/as a Aprender a programar con Python')"
      ],
      "metadata": {
        "colab": {
          "base_uri": "https://localhost:8080/"
        },
        "id": "FeJgPXFS4Y7o",
        "outputId": "2c0e4b53-a4bf-451c-9cce-ee82c1184ae8"
      },
      "execution_count": null,
      "outputs": [
        {
          "output_type": "stream",
          "name": "stdout",
          "text": [
            "Bienvenidos/as a Aprender a programar con Python\n"
          ]
        }
      ]
    },
    {
      "cell_type": "code",
      "source": [
        "#Este es un comentario\n",
        "print('Hello World! My name is Alice :)')"
      ],
      "metadata": {
        "colab": {
          "base_uri": "https://localhost:8080/"
        },
        "id": "tGMVq88P2Erf",
        "outputId": "6628b63b-1d06-4f93-aa80-906973a3de7c"
      },
      "execution_count": null,
      "outputs": [
        {
          "output_type": "stream",
          "name": "stdout",
          "text": [
            "Hello World! My name is Alice :)\n"
          ]
        }
      ]
    },
    {
      "cell_type": "markdown",
      "source": [
        "## **Curso 1: Fundamentos de programación con Python**\n",
        "\n",
        "---\n",
        "\n"
      ],
      "metadata": {
        "id": "bS9eXvOKwy86"
      }
    },
    {
      "cell_type": "markdown",
      "source": [
        "### **1. Python Basics**\n",
        "\n",
        "\n",
        "*   Types\n",
        "*   Expressions\n",
        "*   Variables\n",
        "*   String Operations\n",
        "\n",
        "\n",
        "\n"
      ],
      "metadata": {
        "id": "3-erRkeoQk6f"
      }
    },
    {
      "cell_type": "code",
      "source": [
        "print(type(1))"
      ],
      "metadata": {
        "colab": {
          "base_uri": "https://localhost:8080/"
        },
        "id": "eV4K_bYgSaqX",
        "outputId": "f0ecd436-a3f4-4fbd-a300-e3df7c267142"
      },
      "execution_count": null,
      "outputs": [
        {
          "output_type": "stream",
          "name": "stdout",
          "text": [
            "<class 'int'>\n"
          ]
        }
      ]
    },
    {
      "cell_type": "code",
      "source": [
        "print(type('The hat is blue'))"
      ],
      "metadata": {
        "colab": {
          "base_uri": "https://localhost:8080/"
        },
        "id": "THCR3g2GSlER",
        "outputId": "04989f48-695e-4c1d-a44e-07e32a2e1719"
      },
      "execution_count": null,
      "outputs": [
        {
          "output_type": "stream",
          "name": "stdout",
          "text": [
            "<class 'str'>\n"
          ]
        }
      ]
    },
    {
      "cell_type": "code",
      "source": [
        "print(type([7,24,9]))"
      ],
      "metadata": {
        "colab": {
          "base_uri": "https://localhost:8080/"
        },
        "id": "B7dqTsLfSMUo",
        "outputId": "d8d393b5-3be4-455c-dd94-b5271235152b"
      },
      "execution_count": null,
      "outputs": [
        {
          "output_type": "stream",
          "name": "stdout",
          "text": [
            "<class 'list'>\n"
          ]
        }
      ]
    },
    {
      "cell_type": "code",
      "source": [
        "print(type({'lion':1, 'fish':2}))"
      ],
      "metadata": {
        "colab": {
          "base_uri": "https://localhost:8080/"
        },
        "id": "PFlvPpy8Swq-",
        "outputId": "1d3877f6-aef3-469d-b80d-71bac9d16b49"
      },
      "execution_count": null,
      "outputs": [
        {
          "output_type": "stream",
          "name": "stdout",
          "text": [
            "<class 'dict'>\n"
          ]
        }
      ]
    },
    {
      "cell_type": "markdown",
      "source": [
        "### **2. Python Data Structures**\n",
        "\n",
        "\n",
        "*   Lists and Tuples\n",
        "*   Dictionaries\n",
        "*   Sets"
      ],
      "metadata": {
        "id": "EFW3wyZ53RV-"
      }
    },
    {
      "cell_type": "markdown",
      "source": [
        "### **3. Python Programming Fundamentals**\n",
        "\n",
        "*   Conditions and Branching\n",
        "*   Loops\n",
        "*   Functions\n",
        "*   Objects and Classes"
      ],
      "metadata": {
        "id": "PUoetviU33QX"
      }
    },
    {
      "cell_type": "markdown",
      "source": [
        "### **4. Working with Data in Python**\n",
        "\n",
        "*   Read data with Input\n",
        "*   Reading and Writing Files with Open\n",
        "*   Pandas\n",
        "*   Numpy in Python\n"
      ],
      "metadata": {
        "id": "-dRS9n554HX1"
      }
    }
  ]
}